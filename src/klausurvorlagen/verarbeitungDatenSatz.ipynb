{
 "cells": [
  {
   "cell_type": "code",
   "execution_count": 13,
   "metadata": {
    "collapsed": true
   },
   "outputs": [
    {
     "data": {
      "text/plain": "{'__header__': b'MATLAB 5.0 MAT-file, Platform: PCWIN, Created on: Wed Jul 04 07:54:21 2018',\n '__version__': '1.0',\n '__globals__': [],\n 'm1': array([[108.22317963],\n        [108.22195098],\n        [108.21389258],\n        [108.21512868],\n        [108.21839032],\n        [108.21800029],\n        [108.21767707],\n        [108.21026906]]),\n 'm2': array([[108.22087503],\n        [108.21001708],\n        [108.21283509],\n        [108.21379736],\n        [108.21695877],\n        [108.21491268],\n        [108.2135892 ],\n        [108.20535941]])}"
     },
     "execution_count": 13,
     "metadata": {},
     "output_type": "execute_result"
    }
   ],
   "source": [
    "import scipy.io\n",
    "from scipy import stats\n",
    "from scipy.io import loadmat\n",
    "import numpy as np\n",
    "import pandas as pd\n",
    "from statsmodels.formula.api import ols\n",
    "import matplotlib.pyplot as plt\n",
    "from scipy.stats import t\n",
    "import sympy as syms\n",
    "from scipy.stats import norm\n",
    "\n",
    "#Datenimport\n",
    "head = scipy.io.whosmat(r'C:\\Users\\Mirko\\Documents\\80_uni\\semester 3\\DFSS\\Klausuren\\Signifikanz.mat')\n",
    "data = loadmat(r'C:\\Users\\Mirko\\Documents\\80_uni\\semester 3\\DFSS\\Klausuren\\Signifikanz.mat')\n",
    "head\n",
    "data"
   ]
  },
  {
   "cell_type": "code",
   "execution_count": 11,
   "outputs": [
    {
     "ename": "KeyError",
     "evalue": "'M1'",
     "output_type": "error",
     "traceback": [
      "\u001B[1;31m---------------------------------------------------------------------------\u001B[0m",
      "\u001B[1;31mKeyError\u001B[0m                                  Traceback (most recent call last)",
      "\u001B[1;32m~\\AppData\\Local\\Temp/ipykernel_1088/3324122727.py\u001B[0m in \u001B[0;36m<module>\u001B[1;34m\u001B[0m\n\u001B[0;32m      1\u001B[0m \u001B[1;31m#Erstellen eines Panda DataFrames\u001B[0m\u001B[1;33m\u001B[0m\u001B[1;33m\u001B[0m\u001B[1;33m\u001B[0m\u001B[0m\n\u001B[1;32m----> 2\u001B[1;33m m_hyp = pd.DataFrame({'m1': data[\"M1\"].reshape(-1),\n\u001B[0m\u001B[0;32m      3\u001B[0m                       \u001B[1;34m'm2'\u001B[0m\u001B[1;33m:\u001B[0m \u001B[0mdata\u001B[0m\u001B[1;33m[\u001B[0m\u001B[1;34m\"M2\"\u001B[0m\u001B[1;33m]\u001B[0m\u001B[1;33m.\u001B[0m\u001B[0mreshape\u001B[0m\u001B[1;33m(\u001B[0m\u001B[1;33m-\u001B[0m\u001B[1;36m1\u001B[0m\u001B[1;33m)\u001B[0m\u001B[1;33m,\u001B[0m\u001B[1;33m\u001B[0m\u001B[1;33m\u001B[0m\u001B[0m\n\u001B[0;32m      4\u001B[0m                       \u001B[1;34m'n1'\u001B[0m\u001B[1;33m:\u001B[0m \u001B[0mdata\u001B[0m\u001B[1;33m[\u001B[0m\u001B[1;34m\"n1\"\u001B[0m\u001B[1;33m]\u001B[0m\u001B[1;33m.\u001B[0m\u001B[0mreshape\u001B[0m\u001B[1;33m(\u001B[0m\u001B[1;33m-\u001B[0m\u001B[1;36m1\u001B[0m\u001B[1;33m)\u001B[0m\u001B[1;33m,\u001B[0m\u001B[1;33m\u001B[0m\u001B[1;33m\u001B[0m\u001B[0m\n\u001B[0;32m      5\u001B[0m                       'n2': data[\"n2\"].reshape(-1)})\n",
      "\u001B[1;31mKeyError\u001B[0m: 'M1'"
     ]
    }
   ],
   "source": [
    "\n",
    "#Erstellen eines Panda DataFrames\n",
    "m_hyp = pd.DataFrame({'m1': data[\"M1\"].reshape(-1),\n",
    "                      'm2': data[\"M2\"].reshape(-1),\n",
    "                      'n1': data[\"n1\"].reshape(-1),\n",
    "                      'n2': data[\"n2\"].reshape(-1)})"
   ],
   "metadata": {
    "collapsed": false,
    "pycharm": {
     "name": "#%%\n"
    }
   }
  }
 ],
 "metadata": {
  "kernelspec": {
   "display_name": "Python 3",
   "language": "python",
   "name": "python3"
  },
  "language_info": {
   "codemirror_mode": {
    "name": "ipython",
    "version": 2
   },
   "file_extension": ".py",
   "mimetype": "text/x-python",
   "name": "python",
   "nbconvert_exporter": "python",
   "pygments_lexer": "ipython2",
   "version": "2.7.6"
  }
 },
 "nbformat": 4,
 "nbformat_minor": 0
}